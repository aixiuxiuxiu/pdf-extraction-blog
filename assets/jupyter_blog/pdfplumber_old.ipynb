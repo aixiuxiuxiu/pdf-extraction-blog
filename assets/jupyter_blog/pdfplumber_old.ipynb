{
 "cells": [
  {
   "cell_type": "code",
   "execution_count": 1,
   "metadata": {},
   "outputs": [
    {
     "name": "stdout",
     "output_type": "stream",
     "text": [
      "Art. 1\n",
      "A. Application 1 The law applies according to its wording or interpretation to all legal\n",
      "of the law\n",
      "questions for which it contains a provision.\n",
      "2 In the absence of a provision, the court4 shall decide in accordance\n",
      "with customary law and, in the absence of customary law, in accordance\n",
      "with the rule that it would make as legislator.\n",
      "3 In doing so, the court shall follow established doctrine and case law.\n"
     ]
    }
   ],
   "source": [
    "import pdfplumber\n",
    "with pdfplumber.open(\"fedlex-data-admin-ch-eli-cc-24-233_245_233-20240101-en-pdf-a-1.pdf\") as pdf:\n",
    "    first_page = pdf.pages[0]\n",
    "    box = first_page.crop((0,249, 419, 345))\n",
    "    print(box.extract_text())"
   ]
  }
 ],
 "metadata": {
  "kernelspec": {
   "display_name": "llm",
   "language": "python",
   "name": "python3"
  },
  "language_info": {
   "codemirror_mode": {
    "name": "ipython",
    "version": 3
   },
   "file_extension": ".py",
   "mimetype": "text/x-python",
   "name": "python",
   "nbconvert_exporter": "python",
   "pygments_lexer": "ipython3",
   "version": "3.12.4"
  }
 },
 "nbformat": 4,
 "nbformat_minor": 2
}
