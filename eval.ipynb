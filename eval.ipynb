{
 "cells": [
  {
   "cell_type": "code",
   "execution_count": 13,
   "metadata": {},
   "outputs": [],
   "source": [
    "import os\n",
    "from custom_loader import pdf_loader_custom,pdf_loader\n",
    "import collections\n",
    "\n",
    "from llama_index.core import VectorStoreIndex\n",
    "from llama_index.core.node_parser import SentenceSplitter\n",
    "from llama_index.llms.openai import OpenAI\n",
    "from llama_index.core.evaluation import (\n",
    "    generate_question_context_pairs,\n",
    "    EmbeddingQAFinetuneDataset,\n",
    "    RetrieverEvaluator,\n",
    ")\n"
   ]
  },
  {
   "cell_type": "code",
   "execution_count": 5,
   "metadata": {},
   "outputs": [],
   "source": [
    "os.environ[\"OPENAI_API_KEY\"] = \"  \""
   ]
  },
  {
   "cell_type": "code",
   "execution_count": 6,
   "metadata": {},
   "outputs": [],
   "source": [
    "llm = OpenAI(temperature=0.1, model=\"gpt-4o-mini\")"
   ]
  },
  {
   "cell_type": "code",
   "execution_count": 7,
   "metadata": {},
   "outputs": [],
   "source": [
    "\n",
    "import pandas as pd\n",
    "\n",
    "\n",
    "def display_results(name, eval_results):\n",
    "    \"\"\"Display results from evaluate.\"\"\"\n",
    "\n",
    "    metric_dicts = []\n",
    "    for eval_result in eval_results:\n",
    "        metric_dict = eval_result.metric_vals_dict\n",
    "        metric_dicts.append(metric_dict)\n",
    "\n",
    "    full_df = pd.DataFrame(metric_dicts)\n",
    "\n",
    "    columns = {\n",
    "        \"retrievers\": [name],\n",
    "        **{k: [full_df[k].mean()] for k in metrics},\n",
    "    }\n",
    "\n",
    "    if include_cohere_rerank:\n",
    "        crr_relevancy = full_df[\"cohere_rerank_relevancy\"].mean()\n",
    "        columns.update({\"cohere_rerank_relevancy\": [crr_relevancy]})\n",
    "\n",
    "    metric_df = pd.DataFrame(columns)\n",
    "\n",
    "    return metric_df\n"
   ]
  },
  {
   "cell_type": "code",
   "execution_count": 8,
   "metadata": {},
   "outputs": [],
   "source": [
    "file_path = \"/Users/aixiu.an/Desktop/pdf_extractor/fedlex-data-admin-ch-eli-cc-24-233_245_233-20240101-en-pdf-a-1.pdf\""
   ]
  },
  {
   "cell_type": "code",
   "execution_count": 9,
   "metadata": {},
   "outputs": [
    {
     "name": "stderr",
     "output_type": "stream",
     "text": [
      "100%|██████████| 225/225 [05:07<00:00,  1.37s/it]\n"
     ]
    }
   ],
   "source": [
    "custom_loader = pdf_loader_custom(file_path)\n",
    "docs_custom = custom_loader.loader()\n",
    "splitter = SentenceSplitter(\n",
    "    chunk_size=1024,\n",
    "    chunk_overlap=200,)\n",
    "nodes = splitter.get_nodes_from_documents(docs_custom)\n",
    "qa_dataset_custom = generate_question_context_pairs(\n",
    "    nodes, llm=llm, num_questions_per_chunk=2)\n",
    "\n"
   ]
  },
  {
   "cell_type": "code",
   "execution_count": 10,
   "metadata": {},
   "outputs": [
    {
     "data": {
      "text/html": [
       "<div>\n",
       "<style scoped>\n",
       "    .dataframe tbody tr th:only-of-type {\n",
       "        vertical-align: middle;\n",
       "    }\n",
       "\n",
       "    .dataframe tbody tr th {\n",
       "        vertical-align: top;\n",
       "    }\n",
       "\n",
       "    .dataframe thead th {\n",
       "        text-align: right;\n",
       "    }\n",
       "</style>\n",
       "<table border=\"1\" class=\"dataframe\">\n",
       "  <thead>\n",
       "    <tr style=\"text-align: right;\">\n",
       "      <th></th>\n",
       "      <th>retrievers</th>\n",
       "      <th>hit_rate</th>\n",
       "      <th>mrr</th>\n",
       "      <th>precision</th>\n",
       "      <th>recall</th>\n",
       "      <th>ap</th>\n",
       "      <th>ndcg</th>\n",
       "    </tr>\n",
       "  </thead>\n",
       "  <tbody>\n",
       "    <tr>\n",
       "      <th>0</th>\n",
       "      <td>top-2 eval</td>\n",
       "      <td>0.757778</td>\n",
       "      <td>0.684444</td>\n",
       "      <td>0.378889</td>\n",
       "      <td>0.757778</td>\n",
       "      <td>0.684444</td>\n",
       "      <td>0.431439</td>\n",
       "    </tr>\n",
       "  </tbody>\n",
       "</table>\n",
       "</div>"
      ],
      "text/plain": [
       "   retrievers  hit_rate       mrr  precision    recall        ap      ndcg\n",
       "0  top-2 eval  0.757778  0.684444   0.378889  0.757778  0.684444  0.431439"
      ]
     },
     "execution_count": 10,
     "metadata": {},
     "output_type": "execute_result"
    }
   ],
   "source": [
    "\n",
    "vector_index = VectorStoreIndex(nodes)\n",
    "retriever = vector_index.as_retriever(similarity_top_k=2)\n",
    "\n",
    "metrics = [\"hit_rate\", \"mrr\", \"precision\", \"recall\", \"ap\", \"ndcg\"]\n",
    "include_cohere_rerank = False\n",
    "\n",
    "retriever_evaluator = RetrieverEvaluator.from_metric_names(\n",
    "metrics, retriever=retriever)\n",
    "\n",
    "val_results_custom = await retriever_evaluator.aevaluate_dataset(qa_dataset_custom)\n",
    "display_results(\"top-2 eval\", val_results_custom)"
   ]
  },
  {
   "cell_type": "code",
   "execution_count": 14,
   "metadata": {},
   "outputs": [
    {
     "name": "stderr",
     "output_type": "stream",
     "text": [
      "100%|██████████| 230/230 [04:56<00:00,  1.29s/it]\n"
     ]
    }
   ],
   "source": [
    "pdf_loader = pdf_loader(file_path)\n",
    "docs_pdf = pdf_loader.loader()\n",
    "nodes_pdf = splitter.get_nodes_from_documents(docs_pdf)\n",
    "qa_dataset_pdf = generate_question_context_pairs(\n",
    "    nodes_pdf, llm=llm, num_questions_per_chunk=2)\n",
    "\n"
   ]
  },
  {
   "cell_type": "code",
   "execution_count": 15,
   "metadata": {},
   "outputs": [
    {
     "data": {
      "text/html": [
       "<div>\n",
       "<style scoped>\n",
       "    .dataframe tbody tr th:only-of-type {\n",
       "        vertical-align: middle;\n",
       "    }\n",
       "\n",
       "    .dataframe tbody tr th {\n",
       "        vertical-align: top;\n",
       "    }\n",
       "\n",
       "    .dataframe thead th {\n",
       "        text-align: right;\n",
       "    }\n",
       "</style>\n",
       "<table border=\"1\" class=\"dataframe\">\n",
       "  <thead>\n",
       "    <tr style=\"text-align: right;\">\n",
       "      <th></th>\n",
       "      <th>retrievers</th>\n",
       "      <th>hit_rate</th>\n",
       "      <th>mrr</th>\n",
       "      <th>precision</th>\n",
       "      <th>recall</th>\n",
       "      <th>ap</th>\n",
       "      <th>ndcg</th>\n",
       "    </tr>\n",
       "  </thead>\n",
       "  <tbody>\n",
       "    <tr>\n",
       "      <th>0</th>\n",
       "      <td>top-2 eval</td>\n",
       "      <td>0.730435</td>\n",
       "      <td>0.652174</td>\n",
       "      <td>0.365217</td>\n",
       "      <td>0.730435</td>\n",
       "      <td>0.652174</td>\n",
       "      <td>0.412444</td>\n",
       "    </tr>\n",
       "  </tbody>\n",
       "</table>\n",
       "</div>"
      ],
      "text/plain": [
       "   retrievers  hit_rate       mrr  precision    recall        ap      ndcg\n",
       "0  top-2 eval  0.730435  0.652174   0.365217  0.730435  0.652174  0.412444"
      ]
     },
     "execution_count": 15,
     "metadata": {},
     "output_type": "execute_result"
    }
   ],
   "source": [
    "vector_index = VectorStoreIndex(nodes_pdf)\n",
    "retriever = vector_index.as_retriever(similarity_top_k=2)\n",
    "retriever_evaluator = RetrieverEvaluator.from_metric_names(\n",
    "metrics, retriever=retriever)\n",
    "val_results_pdf = await retriever_evaluator.aevaluate_dataset(qa_dataset_pdf)\n",
    "display_results(\"top-2 eval\", val_results_pdf)"
   ]
  },
  {
   "cell_type": "code",
   "execution_count": 16,
   "metadata": {},
   "outputs": [],
   "source": [
    "import matplotlib.pyplot as plt\n",
    "import pandas as pd\n",
    "\n",
    "def compare_results(name_1, name_2, eval_results_1, eval_results_2, metrics, output_path=None, include_cohere_rerank=False, ):\n",
    "    \"\"\"Compare two sets of evaluation results and plot the comparison.\"\"\"\n",
    "    \n",
    "    # Collect metric results for both sets\n",
    "    metric_dicts_1 = [eval_result.metric_vals_dict for eval_result in eval_results_1]\n",
    "    metric_dicts_2 = [eval_result.metric_vals_dict for eval_result in eval_results_2]\n",
    "\n",
    "    full_df_1 = pd.DataFrame(metric_dicts_1)\n",
    "    full_df_2 = pd.DataFrame(metric_dicts_2)\n",
    "\n",
    "    # Prepare the data for plotting\n",
    "    avg_metrics_1 = {metric: full_df_1[metric].mean() for metric in metrics}\n",
    "    avg_metrics_2 = {metric: full_df_2[metric].mean() for metric in metrics}\n",
    "    \n",
    "    # If cohere_rerank is included, add its average as well\n",
    "    if include_cohere_rerank:\n",
    "        avg_metrics_1[\"cohere_rerank_relevancy\"] = full_df_1[\"cohere_rerank_relevancy\"].mean()\n",
    "        avg_metrics_2[\"cohere_rerank_relevancy\"] = full_df_2[\"cohere_rerank_relevancy\"].mean()\n",
    "\n",
    "    # Plotting comparison\n",
    "    fig, ax = plt.subplots(figsize=(10, 6))\n",
    "    metric_names = list(avg_metrics_1.keys())\n",
    "    \n",
    "    values_1 = [avg_metrics_1[metric] for metric in metric_names]\n",
    "    values_2 = [avg_metrics_2[metric] for metric in metric_names]\n",
    "\n",
    "    bar_width = 0.35\n",
    "    index = range(len(metric_names))\n",
    "\n",
    "    ax.barh(index, values_1, bar_width, label=name_1, color='lightblue')\n",
    "    ax.barh([i + bar_width for i in index], values_2, bar_width, label=name_2, color='lightcoral')\n",
    "\n",
    "    ax.set_xlabel('Score')\n",
    "    ax.set_title(f'Retrival Evaluation: {name_1} vs {name_2}')\n",
    "    ax.set_yticks([i + bar_width/2 for i in index])\n",
    "    ax.set_yticklabels(metric_names)\n",
    "    ax.legend()\n",
    "\n",
    "    plt.tight_layout()\n",
    "\n",
    "    if output_path:\n",
    "        plt.savefig(output_path)\n",
    "    plt.show()\n",
    "    plt.close()\n"
   ]
  },
  {
   "cell_type": "code",
   "execution_count": 17,
   "metadata": {},
   "outputs": [
    {
     "data": {
      "image/png": "[encoded data removed]",
      "text/plain": [
       "<Figure size 1000x600 with 1 Axes>"
      ]
     },
     "metadata": {},
     "output_type": "display_data"
    }
   ],
   "source": [
    "compare_results(\"Custom PDFLoader\", \"PDFLoader\", val_results_custom, val_results_pdf, metrics,  output_path = \"result.png\",include_cohere_rerank=False)\n"
   ]
  }
 ],
 "metadata": {
  "kernelspec": {
   "display_name": "llm",
   "language": "python",
   "name": "python3"
  },
  "language_info": {
   "codemirror_mode": {
    "name": "ipython",
    "version": 3
   },
   "file_extension": ".py",
   "mimetype": "text/x-python",
   "name": "python",
   "nbconvert_exporter": "python",
   "pygments_lexer": "ipython3",
   "version": "3.12.4"
  }
 },
 "nbformat": 4,
 "nbformat_minor": 2
}
